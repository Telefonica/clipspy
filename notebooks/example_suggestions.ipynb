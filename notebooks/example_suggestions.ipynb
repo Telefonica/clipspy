{
 "cells": [
  {
   "cell_type": "markdown",
   "metadata": {
    "collapsed": true
   },
   "source": [
    "# Rules Engines Examples\n",
    "\n",
    "This notebook shows how to use rules engines in a simple case: just execute the reasoning defined in a rules file over a set of data and get the results."
   ]
  },
  {
   "cell_type": "code",
   "execution_count": 1,
   "metadata": {},
   "outputs": [],
   "source": [
    "import sys\n",
    "\n",
    "# Add code folder to the execution path\n",
    "PYTHON_PATH = [\"../src\",\n",
    "               \"../examples\",\n",
    "               \".\"]\n",
    "for p in PYTHON_PATH:\n",
    "    if p not in sys.path:\n",
    "        sys.path.append(p)"
   ]
  },
  {
   "cell_type": "code",
   "execution_count": 2,
   "metadata": {},
   "outputs": [],
   "source": [
    "from auracog_rules.rules_engines import RulesEngine, RulesEnginePool\n",
    "from auracog_rules.rules_engines_persistence import RulesEnginesStore, LocalFileRulesEngineStore\n",
    "\n",
    "import logging\n",
    "import time"
   ]
  },
  {
   "cell_type": "markdown",
   "metadata": {},
   "source": [
    "Create a directory for the rules states store."
   ]
  },
  {
   "cell_type": "code",
   "execution_count": 3,
   "metadata": {},
   "outputs": [],
   "source": [
    "!mkdir -p rules_store"
   ]
  },
  {
   "cell_type": "markdown",
   "metadata": {},
   "source": [
    "Initialize logging."
   ]
  },
  {
   "cell_type": "code",
   "execution_count": 4,
   "metadata": {},
   "outputs": [],
   "source": [
    "logging.basicConfig(format=\"[%(levelname)s] %(asctime)s.%(msecs)03d - %(name)s: %(message)s\",\n",
    "                        datefmt=\"%d-%m-%Y %H:%M:%S\",\n",
    "                        level=logging.DEBUG)\n",
    "logger = logging.getLogger(__name__)\n"
   ]
  },
  {
   "cell_type": "markdown",
   "metadata": {},
   "source": [
    "Create a local store to save rules engines states. \n",
    "\n",
    "This is an __optional__ step. If no persistent state needs to be stored use `store=None` (or simply do not include this parameter, since it is not mandatory)"
   ]
  },
  {
   "cell_type": "code",
   "execution_count": 5,
   "metadata": {},
   "outputs": [],
   "source": [
    "rules_persistence_store = LocalFileRulesEngineStore(\"rules_store\", binary=False)"
   ]
  },
  {
   "cell_type": "markdown",
   "metadata": {},
   "source": [
    "- Create a pool of rules engines. Load the rules and the rest of the CLIPS code to be used. Multiple files can be loaded. Take into account that they are loaded in the same order as declared.\n",
    "\n",
    "- Also define the name of a __python library__ (it should be accessible through the system path) containing all the python functions that will be used in the clips code. In this example see [auracog_suggestions.custom_functions](../examplesauracog_suggestions/custom_functions.py).\n",
    "\n",
    "- The __pool size__ defines the number of rules engines to be kept in the pool. If the number of acuired rules engiens at a given instant exceeds this size, the acquiring operation will wait until one is available.\n",
    "- The __initial pool size__ defines the number or rules engines that will be pre-loaded at pool instantiation time. All the rule engines not pre-loaded will be created and intialized on demmand (within the limits defined by the __pool size__).\n",
    "\n",
    "\n",
    "Execute `help(RulesEnginePool)`for further information.\n"
   ]
  },
  {
   "cell_type": "code",
   "execution_count": 6,
   "metadata": {},
   "outputs": [
    {
     "name": "stderr",
     "output_type": "stream",
     "text": [
      "[INFO] 19-11-2019 11:11:16.372 - auracog_rules.rules_engines: Defining function get_time\n",
      "[INFO] 19-11-2019 11:11:16.401 - auracog_rules.rules_engines: Rules engine created in 46.324 ms\n",
      "[INFO] 19-11-2019 11:11:16.407 - auracog_rules.rules_engines: Defining function get_time\n",
      "[INFO] 19-11-2019 11:11:16.420 - auracog_rules.rules_engines: Rules engine created in 16.669 ms\n"
     ]
    }
   ],
   "source": [
    "POOL_NAME = \"test_pool\"  # This is the name of the rules engine pool. Just for informative purposes.\n",
    "RULES_FILES = [\"../clips_modules/slots_control.clp\", \n",
    "               \"example_suggestions.clp\"]\n",
    "#FUNCTIONS_PACKAGE_NAME = \"auracog_suggestions.custom_functions\"\n",
    "FUNCTIONS_PACKAGE_NAME = \"custom_functions\"\n",
    "POOL_SIZE = 2\n",
    "INITIAL_POOL_SIZE = 2\n",
    "rules_engine_pool = RulesEnginePool(POOL_NAME, RULES_FILES, \n",
    "                                    functions_package_name=FUNCTIONS_PACKAGE_NAME,\n",
    "                                    pool_size=POOL_SIZE, \n",
    "                                    initial_pool_size=INITIAL_POOL_SIZE, \n",
    "                                    store=rules_persistence_store)"
   ]
  },
  {
   "cell_type": "markdown",
   "metadata": {},
   "source": [
    "__Acquire a rules engine__.\n",
    "\n",
    "- If an ID is used, the last saved state with that identifier will be loaded. If it does not exist yet, simply initialize void (execute the reset command).\n",
    "\n",
    "- The state id is optional. Use `acquire_rules_engine()` or `acquire_rules_engine(None)` to get a rules engine without any internal state (just like executing a `reset` command)."
   ]
  },
  {
   "cell_type": "code",
   "execution_count": 7,
   "metadata": {},
   "outputs": [
    {
     "name": "stderr",
     "output_type": "stream",
     "text": [
      "[DEBUG] 19-11-2019 11:11:16.432 - auracog_rules.rules_engines: Reading persisted state for id=\"persistent_state_1\"\n",
      "[WARNING] 19-11-2019 11:11:16.437 - auracog_rules.rules_engines_persistence: No persisted state found for id=\"persistent_state_1\"\n"
     ]
    }
   ],
   "source": [
    "# Get one instance of a rules engine\n",
    "ID = \"persistent_state_1\"\n",
    "re = rules_engine_pool.acquire_rules_engine(ID)"
   ]
  },
  {
   "cell_type": "markdown",
   "metadata": {},
   "source": [
    "It is possible to have access to some lower level properties of the rules engine through `env`.\n",
    "\n",
    "Execute `help(re.env)` for further details."
   ]
  },
  {
   "cell_type": "code",
   "execution_count": 8,
   "metadata": {},
   "outputs": [
    {
     "data": {
      "text/plain": [
       "[TemplateFact: f-0     (initial-fact)]"
      ]
     },
     "execution_count": 8,
     "metadata": {},
     "output_type": "execute_result"
    }
   ],
   "source": [
    "# Show currently asserted facts\n",
    "list(re.env.facts())"
   ]
  },
  {
   "cell_type": "code",
   "execution_count": 9,
   "metadata": {},
   "outputs": [
    {
     "data": {
      "text/plain": [
       "[Rule: (defrule MAIN::retract_initial_slot \"This rule retracts the __initial_slot__ rule, needed for managing unique slots\"\n",
       "    ?f <- (slot __initial_slot__)\n",
       "    =>\n",
       "    (retract ?f)),\n",
       " Rule: (defrule MAIN::r_explore_1 \"Do not suggest intents that have been just suggested\"\n",
       "    (now ?now)\n",
       "    (suggested_intent (id ?id) (last_suggested ?last_suggested))\n",
       "    (test (< (- ?now ?last_suggested) ?*MIN_SUGGESTION_TIME*))\n",
       "    =>\n",
       "    (assert (intent_suggestion ?id -1000 (gensym)))),\n",
       " Rule: (defrule MAIN::r_explore_2 \"Explore on TV domain per day\"\n",
       "    (suggested_intent (id ?id) (num_suggested_day ?num_suggested))\n",
       "    (test (in ?id ?*TV_DOMAIN_INTENTS*))\n",
       "    (test (< ?num_suggested ?*MAX_SUGGESTIONS_DAY_TV*))\n",
       "    =>\n",
       "    (assert (intent_suggestion ?id 0.1 (gensym)))),\n",
       " Rule: (defrule MAIN::r_explore_3 \"Explore on TV domain per week\"\n",
       "    (suggested_intent (id ?id) (num_suggested_week ?num_suggested))\n",
       "    (test (in ?id ?*TV_DOMAIN_INTENTS*))\n",
       "    (test (< ?num_suggested ?*MAX_SUGGESTIONS_WEEK_TV*))\n",
       "    =>\n",
       "    (assert (intent_suggestion ?id 0.2 (gensym)))),\n",
       " Rule: (defrule MAIN::r_explore_4 \"If tv.display is latest intent, suggest tv.search_similar, tv.record\"\n",
       "    (current_session (user_id ?user_id) (intents $?intents))\n",
       "    (test (eq (get_last_element $?intents) ?*TV_DISPLAY*))\n",
       "    =>\n",
       "    (assert (intent_suggestion ?*TV_SEARCH_SIMILAR* 0.5 (gensym)))\n",
       "    (assert (intent_suggestion ?*TV_RECORD* 0.3 (gensym)))),\n",
       " Rule: (defrule MAIN::r_explore_5 \"If tv.search in current session, suggest tv.question_time_loc\"\n",
       "    (current_session (user_id ?user_id) (intents $?intents))\n",
       "    (test (in ?*TV_SEARCH* $?intents))\n",
       "    =>\n",
       "    (assert (intent_suggestion ?*TV_QUESTION_TIME_LOC* 0.5 (gensym)))),\n",
       " Rule: (defrule MAIN::r_test_get_time \"This rules is used to get the current time\"\n",
       "    (not (now ?))\n",
       "    =>\n",
       "    (printout t \"Unix time \" (get_time) crlf)\n",
       "    (assert (now (get_time))))]"
      ]
     },
     "execution_count": 9,
     "metadata": {},
     "output_type": "execute_result"
    }
   ],
   "source": [
    "# Show currently defined rules\n",
    "list(re.env.rules())"
   ]
  },
  {
   "cell_type": "markdown",
   "metadata": {},
   "source": [
    "__Start processing with the rules engine__\n",
    "\n",
    "1. Set facts into the rules engine"
   ]
  },
  {
   "cell_type": "code",
   "execution_count": 10,
   "metadata": {},
   "outputs": [],
   "source": [
    "# Reset the rules engine if needed\n",
    "re.reset()"
   ]
  },
  {
   "cell_type": "code",
   "execution_count": 11,
   "metadata": {},
   "outputs": [],
   "source": [
    "# This is the information for user AU123456\n",
    "user_info_AU123456 = {\n",
    "    \"id\": \"AU123456\", # User id\n",
    "    \"type\": 1,        # Type of user (type of subscription)\n",
    "    \"cluster_id\": 2,  # Id of the cluster corresponding to the user (from user profiling)\n",
    "    \"channel_id\": \"m-home\", # Channel\n",
    "    \"at_home\": True,  # User is at home\n",
    "    \"stb\": True,      # STB is available\n",
    "}\n",
    "\n",
    "# This is the information on the previously suggested intents to user AU123456\n",
    "suggested_intents_user_AU123456 = [\n",
    "    [\n",
    "        \"suggested_intent\", \n",
    "        {\n",
    "            \"user_id\": \"AU123456\",\n",
    "            \"id\": 222,\n",
    "            \"name\": \"tv.record\",\n",
    "            \"num_requested_day\": 0,\n",
    "            \"num_requested_week\": 3,\n",
    "            \"num_suggested_day\": 0,\n",
    "            \"num_suggested_week\": 2,\n",
    "            \"num_selected_day\": 1,\n",
    "            \"num_selected_week\": 1,\n",
    "            \"last_suggested\": time.time() - 2*60*60  # Last suggested 2 hours ago\n",
    "        }\n",
    "    ],\n",
    "    [\n",
    "        \"suggested_intent\", \n",
    "        {\n",
    "            \"user_id\": \"AU123456\",\n",
    "            \"id\": 191,\n",
    "            \"name\": \"tv.search\",\n",
    "            \"num_requested_day\": 2,\n",
    "            \"num_requested_week\": 20,\n",
    "            \"num_suggested_day\": 0,\n",
    "            \"num_suggested_week\": 10,\n",
    "            \"num_selected_day\": 2,\n",
    "            \"num_selected_week\": 18,\n",
    "            \"last_suggested\": time.time() - 5*60  # Last suggested 5 minutes ago\n",
    "        }\n",
    "    ],\n",
    "    [\n",
    "        \"suggested_intent\", \n",
    "        {\n",
    "            \"user_id\": \"AU123456\",\n",
    "            \"id\": 194,\n",
    "            \"name\": \"tv.search_similar\",\n",
    "            \"num_requested_day\": 0,\n",
    "            \"num_requested_week\": 0,\n",
    "            \"num_suggested_day\": 0,\n",
    "            \"num_suggested_week\": 1,\n",
    "            \"num_selected_day\": 0,\n",
    "            \"num_selected_week\": 0,\n",
    "            \"last_suggested\": time.time() - 3*24*60*60  # Last suggested 3 days ago\n",
    "        }\n",
    "    ],\n",
    "    [\n",
    "        \"suggested_intent\", \n",
    "        {\n",
    "            \"user_id\": \"AU123456\",\n",
    "            \"id\": 193,\n",
    "            \"name\": \"tv.question_time_loc\",\n",
    "            \"num_requested_day\": 0,\n",
    "            \"num_requested_week\": 0,\n",
    "            \"num_suggested_day\": 1,\n",
    "            \"num_suggested_week\": 8,\n",
    "            \"num_selected_day\": 0,\n",
    "            \"num_selected_week\": 0,\n",
    "            \"last_suggested\": time.time() - 24*60*60  # Last suggested 1 day ago\n",
    "        }\n",
    "    ]\n",
    "]\n",
    "\n",
    "# Current user session information\n",
    "current_session = {\n",
    "    \"user_id\": \"AU123456\",\n",
    "    \"intents\": [191, 195]  # t.search, tv.display\n",
    "}\n"
   ]
  },
  {
   "cell_type": "code",
   "execution_count": 12,
   "metadata": {},
   "outputs": [
    {
     "name": "stderr",
     "output_type": "stream",
     "text": [
      "[DEBUG] 19-11-2019 11:11:16.643 - auracog_rules.rules_engines: Set facts into the rules engine in 1.219 ms\n",
      "[DEBUG] 19-11-2019 11:11:16.652 - auracog_rules.rules_engines: Set facts into the rules engine in 7.534 ms\n",
      "[DEBUG] 19-11-2019 11:11:16.656 - auracog_rules.rules_engines: Set facts into the rules engine in 0.205 ms\n"
     ]
    }
   ],
   "source": [
    "re.set_facts([[\"user_info\", user_info_AU123456]])\n",
    "re.set_facts(suggested_intents_user_AU123456)\n",
    "re.set_facts([[\"current_session\", current_session]])"
   ]
  },
  {
   "cell_type": "code",
   "execution_count": 13,
   "metadata": {},
   "outputs": [
    {
     "data": {
      "text/plain": [
       "[TemplateFact: f-0     (initial-fact),\n",
       " ImpliedFact: f-1     (slot __initial_slot__),\n",
       " TemplateFact: f-2     (user_info (id \"AU123456\") (type 1) (cluster_id 2) (channel_id \"m-home\") (at_home TRUE) (stb TRUE)),\n",
       " TemplateFact: f-3     (suggested_intent (user_id \"AU123456\") (id 222) (name \"tv.record\") (num_requested_day 0) (num_requested_week 3) (num_suggested_day 0) (num_suggested_week 2) (num_selected_day 1) (num_selected_week 1) (last_suggested 1574151076.60553)),\n",
       " TemplateFact: f-4     (suggested_intent (user_id \"AU123456\") (id 191) (name \"tv.search\") (num_requested_day 2) (num_requested_week 20) (num_suggested_day 0) (num_suggested_week 10) (num_selected_day 2) (num_selected_week 18) (last_suggested 1574157976.60553)),\n",
       " TemplateFact: f-5     (suggested_intent (user_id \"AU123456\") (id 194) (name \"tv.search_similar\") (num_requested_day 0) (num_requested_week 0) (num_suggested_day 0) (num_suggested_week 1) (num_selected_day 0) (num_selected_week 0) (last_suggested 1573899076.60553)),\n",
       " TemplateFact: f-6     (suggested_intent (user_id \"AU123456\") (id 193) (name \"tv.question_time_loc\") (num_requested_day 0) (num_requested_week 0) (num_suggested_day 1) (num_suggested_week 8) (num_selected_day 0) (num_selected_week 0) (last_suggested 1574071876.60553)),\n",
       " TemplateFact: f-7     (current_session (user_id \"AU123456\") (intents 191 195))]"
      ]
     },
     "execution_count": 13,
     "metadata": {},
     "output_type": "execute_result"
    }
   ],
   "source": [
    "list(re.env.facts())"
   ]
  },
  {
   "cell_type": "markdown",
   "metadata": {},
   "source": [
    "__Reason__\n",
    "\n",
    "Use the method __reason()__.\n",
    "\n",
    "It can take an additional parameter, `max_fires` to limit the numner of rules fires. Default value is 10000. It prevents the rule engine to infinitely chain rules firing."
   ]
  },
  {
   "cell_type": "code",
   "execution_count": 14,
   "metadata": {},
   "outputs": [
    {
     "name": "stderr",
     "output_type": "stream",
     "text": [
      "[DEBUG] 19-11-2019 11:11:16.706 - auracog_rules.rules_engines: Rules engine _reason().self.env.run() took 0.344 ms\n",
      "[DEBUG] 19-11-2019 11:11:16.708 - auracog_rules.rules_engines: Rules engine reason() took 1.593 ms. Facts asserted: 18. Rules defined: 7. Rules fired: 11\n"
     ]
    }
   ],
   "source": [
    "re.reason()"
   ]
  },
  {
   "cell_type": "markdown",
   "metadata": {},
   "source": [
    "__Get results__\n",
    "\n",
    "We are interested in the facts with name `intent_suggestion`."
   ]
  },
  {
   "cell_type": "code",
   "execution_count": 15,
   "metadata": {},
   "outputs": [
    {
     "name": "stderr",
     "output_type": "stream",
     "text": [
      "[DEBUG] 19-11-2019 11:11:16.725 - auracog_rules.rules_engines: Rules engine collect_fact_values() took 5.530 ms\n"
     ]
    },
    {
     "name": "stdout",
     "output_type": "stream",
     "text": [
      "[194, 0.5, 'gen1']\n",
      "[222, 0.3, 'gen2']\n",
      "[193, 0.5, 'gen3']\n",
      "[193, 0.1, 'gen4']\n",
      "[194, 0.1, 'gen5']\n",
      "[194, 0.2, 'gen6']\n",
      "[191, 0.1, 'gen7']\n",
      "[222, 0.1, 'gen8']\n",
      "[222, 0.2, 'gen9']\n",
      "[191, -1000, 'gen10']\n"
     ]
    }
   ],
   "source": [
    "intent_suggestions = re.collect_fact_values(\"intent_suggestion\")\n",
    "for s in intent_suggestions:\n",
    "    print(s)"
   ]
  },
  {
   "cell_type": "code",
   "execution_count": 16,
   "metadata": {},
   "outputs": [
    {
     "name": "stdout",
     "output_type": "stream",
     "text": [
      "{194: 0.8, 222: 0.6000000000000001, 193: 0.6, 191: -999.9}\n"
     ]
    }
   ],
   "source": [
    "# Sum punctuations for each intent\n",
    "res = {}\n",
    "for s in intent_suggestions:\n",
    "    p = res.get(s[0], 0)\n",
    "    p += s[1]\n",
    "    res[s[0]] = p\n",
    "print(res)"
   ]
  },
  {
   "cell_type": "markdown",
   "metadata": {},
   "source": [
    "__Release the rules engine__"
   ]
  },
  {
   "cell_type": "code",
   "execution_count": 17,
   "metadata": {},
   "outputs": [],
   "source": [
    "# Release and do not save state\n",
    "rules_engine_pool.release_rules_engine(re)\n",
    "\n",
    "# If it is needed to sae the current state, execute\n",
    "# rules_engine_pool.release_rules_engine(re, ID)"
   ]
  },
  {
   "cell_type": "code",
   "execution_count": null,
   "metadata": {},
   "outputs": [],
   "source": []
  }
 ],
 "metadata": {
  "kernelspec": {
   "display_name": "Python 3",
   "language": "python",
   "name": "python3"
  },
  "language_info": {
   "codemirror_mode": {
    "name": "ipython",
    "version": 3
   },
   "file_extension": ".py",
   "mimetype": "text/x-python",
   "name": "python",
   "nbconvert_exporter": "python",
   "pygments_lexer": "ipython3",
   "version": "3.6.7"
  }
 },
 "nbformat": 4,
 "nbformat_minor": 1
}
